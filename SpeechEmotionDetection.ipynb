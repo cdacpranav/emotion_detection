{
  "cells": [
    {
      "cell_type": "markdown",
      "metadata": {
        "id": "view-in-github",
        "colab_type": "text"
      },
      "source": [
        "<a href=\"https://colab.research.google.com/github/ravdess/emotion_detection/blob/main/SpeechEmotionDetection.ipynb\" target=\"_parent\"><img src=\"https://colab.research.google.com/assets/colab-badge.svg\" alt=\"Open In Colab\"/></a>"
      ]
    },
    {
      "cell_type": "markdown",
      "metadata": {
        "id": "fFRW7n15OLn_"
      },
      "source": [
        "## Import required libraries"
      ]
    },
    {
      "cell_type": "code",
      "execution_count": 1,
      "metadata": {
        "id": "AKVr1nnUr1ou"
      },
      "outputs": [],
      "source": [
        "import os\n",
        "import librosa\n",
        "import random\n",
        "import numpy as np\n",
        "import pandas as pd\n",
        "from tqdm import tqdm\n",
        "import librosa\n",
        "import librosa.display\n",
        "# Visualization\n",
        "import seaborn as sns\n",
        "import matplotlib.pyplot as plt\n",
        "from sklearn.metrics import confusion_matrix\n",
        "# Preprocessing\n",
        "from sklearn.model_selection import train_test_split\n",
        "from sklearn.preprocessing import LabelEncoder, StandardScaler\n",
        "# Model Traing\n",
        "from tensorflow.keras.models import Sequential\n",
        "from tensorflow.keras.layers import Dense, Dropout, Conv1D, MaxPooling1D, Flatten\n",
        "# Model Evaluation\n",
        "from sklearn.metrics import confusion_matrix\n",
        "from tensorflow.keras import models as tf_models\n",
        "from sklearn.metrics import classification_report"
      ]
    },
    {
      "cell_type": "markdown",
      "metadata": {
        "id": "-7T2qVlGOExV"
      },
      "source": [
        "## Mounting Dataset from Google Drive"
      ]
    },
    {
      "cell_type": "code",
      "execution_count": 2,
      "metadata": {
        "colab": {
          "base_uri": "https://localhost:8080/"
        },
        "id": "-7ryJj_W7b_i",
        "outputId": "6a165c03-1294-43de-8d33-15ed3412406c"
      },
      "outputs": [
        {
          "output_type": "stream",
          "name": "stdout",
          "text": [
            "Mounted at /content/drive\n"
          ]
        }
      ],
      "source": [
        "from google.colab import drive\n",
        "drive.mount('/content/drive')\n",
        "dataset_root = \"/content/drive/MyDrive/data\"\n",
        "dataset_subfolders = [\"Audio_Song_Actors_01-24\", \"Audio_Speech_Actors_01-24\"]"
      ]
    },
    {
      "cell_type": "code",
      "execution_count": 3,
      "metadata": {
        "id": "zeqKDsHx7b9N"
      },
      "outputs": [],
      "source": [
        "# Define emotions based on RAVDESS dataset encoding\n",
        "emotion_map = {'01': 'neutral', '02': 'calm', '03': 'happy', '04': 'sad',\n",
        "               '05': 'angry', '06': 'fearful', '07': 'disgust', '08': 'surprised'}"
      ]
    },
    {
      "cell_type": "code",
      "execution_count": 4,
      "metadata": {
        "id": "Tu9TX7ECFfO0"
      },
      "outputs": [],
      "source": [
        "# Ensuring dataset_features directory exists\n",
        "output_dir = \"/content/drive/MyDrive/SpeechEmotionDetection/dataset_features/\"\n",
        "os.makedirs(output_dir, exist_ok=True)"
      ]
    },
    {
      "cell_type": "markdown",
      "metadata": {
        "id": "48aQZntqOTQj"
      },
      "source": [
        "## Feature Extraction"
      ]
    },
    {
      "cell_type": "code",
      "execution_count": 5,
      "metadata": {
        "id": "tElLbWza7b6n"
      },
      "outputs": [],
      "source": [
        "# Function to extract features from an audio file\n",
        "def extract_features(file_path):\n",
        "    y, sr = librosa.load(file_path, sr=None)\n",
        "\n",
        "    # Extract MFCCs\n",
        "    mfccs = np.mean(librosa.feature.mfcc(y=y, sr=sr, n_mfcc=40).T, axis=0)\n",
        "\n",
        "    # Extract Chroma\n",
        "    chroma = np.mean(librosa.feature.chroma_stft(y=y, sr=sr).T, axis=0)\n",
        "\n",
        "    # Extract Mel Spectrogram\n",
        "    mel = np.mean(librosa.feature.melspectrogram(y=y, sr=sr).T, axis=0)\n",
        "\n",
        "    return np.hstack([mfccs, chroma, mel])"
      ]
    },
    {
      "cell_type": "markdown",
      "metadata": {
        "id": "T2k87-G2OhGq"
      },
      "source": [
        "## Dataset Processing"
      ]
    },
    {
      "cell_type": "code",
      "execution_count": 6,
      "metadata": {
        "id": "DVXjmbkx7by1"
      },
      "outputs": [],
      "source": [
        "# Function to process a dataset folder\n",
        "def process_dataset(dataset_path, category, data):\n",
        "    all_files = []\n",
        "    for actor_folder in os.listdir(dataset_path):\n",
        "        actor_path = os.path.join(dataset_path, actor_folder)\n",
        "        if not os.path.isdir(actor_path):\n",
        "            continue\n",
        "\n",
        "        for file_name in os.listdir(actor_path):\n",
        "            file_path = os.path.join(actor_path, file_name)\n",
        "            all_files.append((file_path, file_name))\n",
        "\n",
        "    print(f\"Processing {category}: {len(all_files)} files\")\n",
        "    for file_path, file_name in tqdm(all_files, desc=f\"{category}\"):\n",
        "        try:\n",
        "            features = extract_features(file_path)\n",
        "            emotion_code = file_name.split(\"-\")[2]\n",
        "            emotion = emotion_map.get(emotion_code, \"unknown\")\n",
        "            data.append([file_path, category, emotion] + features.tolist())\n",
        "        except Exception as e:\n",
        "            print(f\"Error processing {file_name}: {e}\")"
      ]
    },
    {
      "cell_type": "code",
      "execution_count": 7,
      "metadata": {
        "colab": {
          "base_uri": "https://localhost:8080/"
        },
        "id": "lcRku7yT7bwQ",
        "outputId": "8dc30289-1ff2-4d45-8dc5-4c6a6307a756"
      },
      "outputs": [
        {
          "output_type": "stream",
          "name": "stdout",
          "text": [
            "Processing Audio_Song_Actors_01-24: 44 files\n"
          ]
        },
        {
          "output_type": "stream",
          "name": "stderr",
          "text": [
            "Audio_Song_Actors_01-24: 100%|██████████| 44/44 [00:59<00:00,  1.36s/it]\n"
          ]
        },
        {
          "output_type": "stream",
          "name": "stdout",
          "text": [
            "Processing Audio_Speech_Actors_01-24: 76 files\n"
          ]
        },
        {
          "output_type": "stream",
          "name": "stderr",
          "text": [
            "Audio_Speech_Actors_01-24: 100%|██████████| 76/76 [01:13<00:00,  1.04it/s]\n"
          ]
        },
        {
          "output_type": "stream",
          "name": "stdout",
          "text": [
            "Feature extraction completed! Data saved to dataset_features/audio_features.csv\n"
          ]
        }
      ],
      "source": [
        "data = []\n",
        "\n",
        "for subfolder in dataset_subfolders:\n",
        "    process_dataset(os.path.join(dataset_root, subfolder), subfolder, data)\n",
        "\n",
        "if data:\n",
        "    columns = [\"file_path\", \"category\", \"emotion\"] + [f\"feature_{i}\" for i in range(len(data[0]) - 3)]\n",
        "    df = pd.DataFrame(data, columns=columns)\n",
        "\n",
        "    #Converting Dataframe to csv\n",
        "    df.to_csv(os.path.join(output_dir, \"audio_features.csv\"), index=False)\n",
        "    print(\"Feature extraction completed! Data saved to dataset_features/audio_features.csv\")\n",
        "else:\n",
        "    print(\"No valid audio files found for feature extraction.\")\n"
      ]
    },
    {
      "cell_type": "code",
      "execution_count": 8,
      "metadata": {
        "colab": {
          "base_uri": "https://localhost:8080/",
          "height": 342
        },
        "id": "Z-dp1Nbv7bt9",
        "outputId": "39def1ff-47a7-47d6-a118-61cff48e6768"
      },
      "outputs": [
        {
          "output_type": "execute_result",
          "data": {
            "text/plain": [
              "                                           file_path                 category  \\\n",
              "0  /content/drive/MyDrive/data/Audio_Song_Actors_...  Audio_Song_Actors_01-24   \n",
              "1  /content/drive/MyDrive/data/Audio_Song_Actors_...  Audio_Song_Actors_01-24   \n",
              "2  /content/drive/MyDrive/data/Audio_Song_Actors_...  Audio_Song_Actors_01-24   \n",
              "3  /content/drive/MyDrive/data/Audio_Song_Actors_...  Audio_Song_Actors_01-24   \n",
              "4  /content/drive/MyDrive/data/Audio_Song_Actors_...  Audio_Song_Actors_01-24   \n",
              "\n",
              "   emotion   feature_0  feature_1  feature_2  feature_3  feature_4  feature_5  \\\n",
              "0  neutral -574.381836  67.309967 -30.840872  -0.162372  -4.934814 -10.494026   \n",
              "1  neutral -577.578308  65.770882 -33.157261  -1.443423  -5.831300  -6.498610   \n",
              "2     calm -600.616516  65.064606 -22.673502   1.737541 -12.696936 -12.857448   \n",
              "3     calm -596.789917  66.608055 -21.163029   3.917316 -12.880773 -14.032175   \n",
              "4  neutral -552.644531  60.612236 -35.158916   2.173671  -6.746623  -7.774879   \n",
              "\n",
              "   feature_6  ...   feature_170   feature_171   feature_172   feature_173  \\\n",
              "0 -16.890097  ...  4.931115e-07  2.266706e-07  1.516844e-07  1.128038e-07   \n",
              "1 -19.072449  ...  8.492192e-07  3.160353e-07  2.828727e-07  2.723230e-07   \n",
              "2 -16.881628  ...  9.574217e-07  6.360152e-07  4.583163e-07  3.109663e-07   \n",
              "3 -17.103786  ...  1.374138e-06  9.269112e-07  6.345528e-07  5.491802e-07   \n",
              "4 -17.865114  ...  3.037660e-06  1.450305e-06  9.042032e-07  8.087686e-07   \n",
              "\n",
              "    feature_174   feature_175   feature_176   feature_177   feature_178  \\\n",
              "0  1.238986e-07  9.720392e-08  6.819166e-08  2.761990e-08  8.452344e-09   \n",
              "1  2.116964e-07  1.211949e-07  8.906512e-08  3.217734e-08  8.789963e-09   \n",
              "2  2.960900e-07  2.574198e-07  1.718454e-07  8.539401e-08  1.333675e-08   \n",
              "3  5.642018e-07  4.923513e-07  3.847428e-07  1.716314e-07  1.848683e-08   \n",
              "4  5.226561e-07  3.008404e-07  2.062918e-07  1.048719e-07  2.053573e-08   \n",
              "\n",
              "    feature_179  \n",
              "0  6.896584e-09  \n",
              "1  7.277144e-09  \n",
              "2  7.446569e-09  \n",
              "3  7.934819e-09  \n",
              "4  7.839788e-09  \n",
              "\n",
              "[5 rows x 183 columns]"
            ],
            "text/html": [
              "\n",
              "  <div id=\"df-e45b928b-7c82-4036-9edd-e7e0694e07d0\" class=\"colab-df-container\">\n",
              "    <div>\n",
              "<style scoped>\n",
              "    .dataframe tbody tr th:only-of-type {\n",
              "        vertical-align: middle;\n",
              "    }\n",
              "\n",
              "    .dataframe tbody tr th {\n",
              "        vertical-align: top;\n",
              "    }\n",
              "\n",
              "    .dataframe thead th {\n",
              "        text-align: right;\n",
              "    }\n",
              "</style>\n",
              "<table border=\"1\" class=\"dataframe\">\n",
              "  <thead>\n",
              "    <tr style=\"text-align: right;\">\n",
              "      <th></th>\n",
              "      <th>file_path</th>\n",
              "      <th>category</th>\n",
              "      <th>emotion</th>\n",
              "      <th>feature_0</th>\n",
              "      <th>feature_1</th>\n",
              "      <th>feature_2</th>\n",
              "      <th>feature_3</th>\n",
              "      <th>feature_4</th>\n",
              "      <th>feature_5</th>\n",
              "      <th>feature_6</th>\n",
              "      <th>...</th>\n",
              "      <th>feature_170</th>\n",
              "      <th>feature_171</th>\n",
              "      <th>feature_172</th>\n",
              "      <th>feature_173</th>\n",
              "      <th>feature_174</th>\n",
              "      <th>feature_175</th>\n",
              "      <th>feature_176</th>\n",
              "      <th>feature_177</th>\n",
              "      <th>feature_178</th>\n",
              "      <th>feature_179</th>\n",
              "    </tr>\n",
              "  </thead>\n",
              "  <tbody>\n",
              "    <tr>\n",
              "      <th>0</th>\n",
              "      <td>/content/drive/MyDrive/data/Audio_Song_Actors_...</td>\n",
              "      <td>Audio_Song_Actors_01-24</td>\n",
              "      <td>neutral</td>\n",
              "      <td>-574.381836</td>\n",
              "      <td>67.309967</td>\n",
              "      <td>-30.840872</td>\n",
              "      <td>-0.162372</td>\n",
              "      <td>-4.934814</td>\n",
              "      <td>-10.494026</td>\n",
              "      <td>-16.890097</td>\n",
              "      <td>...</td>\n",
              "      <td>4.931115e-07</td>\n",
              "      <td>2.266706e-07</td>\n",
              "      <td>1.516844e-07</td>\n",
              "      <td>1.128038e-07</td>\n",
              "      <td>1.238986e-07</td>\n",
              "      <td>9.720392e-08</td>\n",
              "      <td>6.819166e-08</td>\n",
              "      <td>2.761990e-08</td>\n",
              "      <td>8.452344e-09</td>\n",
              "      <td>6.896584e-09</td>\n",
              "    </tr>\n",
              "    <tr>\n",
              "      <th>1</th>\n",
              "      <td>/content/drive/MyDrive/data/Audio_Song_Actors_...</td>\n",
              "      <td>Audio_Song_Actors_01-24</td>\n",
              "      <td>neutral</td>\n",
              "      <td>-577.578308</td>\n",
              "      <td>65.770882</td>\n",
              "      <td>-33.157261</td>\n",
              "      <td>-1.443423</td>\n",
              "      <td>-5.831300</td>\n",
              "      <td>-6.498610</td>\n",
              "      <td>-19.072449</td>\n",
              "      <td>...</td>\n",
              "      <td>8.492192e-07</td>\n",
              "      <td>3.160353e-07</td>\n",
              "      <td>2.828727e-07</td>\n",
              "      <td>2.723230e-07</td>\n",
              "      <td>2.116964e-07</td>\n",
              "      <td>1.211949e-07</td>\n",
              "      <td>8.906512e-08</td>\n",
              "      <td>3.217734e-08</td>\n",
              "      <td>8.789963e-09</td>\n",
              "      <td>7.277144e-09</td>\n",
              "    </tr>\n",
              "    <tr>\n",
              "      <th>2</th>\n",
              "      <td>/content/drive/MyDrive/data/Audio_Song_Actors_...</td>\n",
              "      <td>Audio_Song_Actors_01-24</td>\n",
              "      <td>calm</td>\n",
              "      <td>-600.616516</td>\n",
              "      <td>65.064606</td>\n",
              "      <td>-22.673502</td>\n",
              "      <td>1.737541</td>\n",
              "      <td>-12.696936</td>\n",
              "      <td>-12.857448</td>\n",
              "      <td>-16.881628</td>\n",
              "      <td>...</td>\n",
              "      <td>9.574217e-07</td>\n",
              "      <td>6.360152e-07</td>\n",
              "      <td>4.583163e-07</td>\n",
              "      <td>3.109663e-07</td>\n",
              "      <td>2.960900e-07</td>\n",
              "      <td>2.574198e-07</td>\n",
              "      <td>1.718454e-07</td>\n",
              "      <td>8.539401e-08</td>\n",
              "      <td>1.333675e-08</td>\n",
              "      <td>7.446569e-09</td>\n",
              "    </tr>\n",
              "    <tr>\n",
              "      <th>3</th>\n",
              "      <td>/content/drive/MyDrive/data/Audio_Song_Actors_...</td>\n",
              "      <td>Audio_Song_Actors_01-24</td>\n",
              "      <td>calm</td>\n",
              "      <td>-596.789917</td>\n",
              "      <td>66.608055</td>\n",
              "      <td>-21.163029</td>\n",
              "      <td>3.917316</td>\n",
              "      <td>-12.880773</td>\n",
              "      <td>-14.032175</td>\n",
              "      <td>-17.103786</td>\n",
              "      <td>...</td>\n",
              "      <td>1.374138e-06</td>\n",
              "      <td>9.269112e-07</td>\n",
              "      <td>6.345528e-07</td>\n",
              "      <td>5.491802e-07</td>\n",
              "      <td>5.642018e-07</td>\n",
              "      <td>4.923513e-07</td>\n",
              "      <td>3.847428e-07</td>\n",
              "      <td>1.716314e-07</td>\n",
              "      <td>1.848683e-08</td>\n",
              "      <td>7.934819e-09</td>\n",
              "    </tr>\n",
              "    <tr>\n",
              "      <th>4</th>\n",
              "      <td>/content/drive/MyDrive/data/Audio_Song_Actors_...</td>\n",
              "      <td>Audio_Song_Actors_01-24</td>\n",
              "      <td>neutral</td>\n",
              "      <td>-552.644531</td>\n",
              "      <td>60.612236</td>\n",
              "      <td>-35.158916</td>\n",
              "      <td>2.173671</td>\n",
              "      <td>-6.746623</td>\n",
              "      <td>-7.774879</td>\n",
              "      <td>-17.865114</td>\n",
              "      <td>...</td>\n",
              "      <td>3.037660e-06</td>\n",
              "      <td>1.450305e-06</td>\n",
              "      <td>9.042032e-07</td>\n",
              "      <td>8.087686e-07</td>\n",
              "      <td>5.226561e-07</td>\n",
              "      <td>3.008404e-07</td>\n",
              "      <td>2.062918e-07</td>\n",
              "      <td>1.048719e-07</td>\n",
              "      <td>2.053573e-08</td>\n",
              "      <td>7.839788e-09</td>\n",
              "    </tr>\n",
              "  </tbody>\n",
              "</table>\n",
              "<p>5 rows × 183 columns</p>\n",
              "</div>\n",
              "    <div class=\"colab-df-buttons\">\n",
              "\n",
              "  <div class=\"colab-df-container\">\n",
              "    <button class=\"colab-df-convert\" onclick=\"convertToInteractive('df-e45b928b-7c82-4036-9edd-e7e0694e07d0')\"\n",
              "            title=\"Convert this dataframe to an interactive table.\"\n",
              "            style=\"display:none;\">\n",
              "\n",
              "  <svg xmlns=\"http://www.w3.org/2000/svg\" height=\"24px\" viewBox=\"0 -960 960 960\">\n",
              "    <path d=\"M120-120v-720h720v720H120Zm60-500h600v-160H180v160Zm220 220h160v-160H400v160Zm0 220h160v-160H400v160ZM180-400h160v-160H180v160Zm440 0h160v-160H620v160ZM180-180h160v-160H180v160Zm440 0h160v-160H620v160Z\"/>\n",
              "  </svg>\n",
              "    </button>\n",
              "\n",
              "  <style>\n",
              "    .colab-df-container {\n",
              "      display:flex;\n",
              "      gap: 12px;\n",
              "    }\n",
              "\n",
              "    .colab-df-convert {\n",
              "      background-color: #E8F0FE;\n",
              "      border: none;\n",
              "      border-radius: 50%;\n",
              "      cursor: pointer;\n",
              "      display: none;\n",
              "      fill: #1967D2;\n",
              "      height: 32px;\n",
              "      padding: 0 0 0 0;\n",
              "      width: 32px;\n",
              "    }\n",
              "\n",
              "    .colab-df-convert:hover {\n",
              "      background-color: #E2EBFA;\n",
              "      box-shadow: 0px 1px 2px rgba(60, 64, 67, 0.3), 0px 1px 3px 1px rgba(60, 64, 67, 0.15);\n",
              "      fill: #174EA6;\n",
              "    }\n",
              "\n",
              "    .colab-df-buttons div {\n",
              "      margin-bottom: 4px;\n",
              "    }\n",
              "\n",
              "    [theme=dark] .colab-df-convert {\n",
              "      background-color: #3B4455;\n",
              "      fill: #D2E3FC;\n",
              "    }\n",
              "\n",
              "    [theme=dark] .colab-df-convert:hover {\n",
              "      background-color: #434B5C;\n",
              "      box-shadow: 0px 1px 3px 1px rgba(0, 0, 0, 0.15);\n",
              "      filter: drop-shadow(0px 1px 2px rgba(0, 0, 0, 0.3));\n",
              "      fill: #FFFFFF;\n",
              "    }\n",
              "  </style>\n",
              "\n",
              "    <script>\n",
              "      const buttonEl =\n",
              "        document.querySelector('#df-e45b928b-7c82-4036-9edd-e7e0694e07d0 button.colab-df-convert');\n",
              "      buttonEl.style.display =\n",
              "        google.colab.kernel.accessAllowed ? 'block' : 'none';\n",
              "\n",
              "      async function convertToInteractive(key) {\n",
              "        const element = document.querySelector('#df-e45b928b-7c82-4036-9edd-e7e0694e07d0');\n",
              "        const dataTable =\n",
              "          await google.colab.kernel.invokeFunction('convertToInteractive',\n",
              "                                                    [key], {});\n",
              "        if (!dataTable) return;\n",
              "\n",
              "        const docLinkHtml = 'Like what you see? Visit the ' +\n",
              "          '<a target=\"_blank\" href=https://colab.research.google.com/notebooks/data_table.ipynb>data table notebook</a>'\n",
              "          + ' to learn more about interactive tables.';\n",
              "        element.innerHTML = '';\n",
              "        dataTable['output_type'] = 'display_data';\n",
              "        await google.colab.output.renderOutput(dataTable, element);\n",
              "        const docLink = document.createElement('div');\n",
              "        docLink.innerHTML = docLinkHtml;\n",
              "        element.appendChild(docLink);\n",
              "      }\n",
              "    </script>\n",
              "  </div>\n",
              "\n",
              "\n",
              "<div id=\"df-9a856ec0-5f9f-44df-90bf-0ce62fd3238b\">\n",
              "  <button class=\"colab-df-quickchart\" onclick=\"quickchart('df-9a856ec0-5f9f-44df-90bf-0ce62fd3238b')\"\n",
              "            title=\"Suggest charts\"\n",
              "            style=\"display:none;\">\n",
              "\n",
              "<svg xmlns=\"http://www.w3.org/2000/svg\" height=\"24px\"viewBox=\"0 0 24 24\"\n",
              "     width=\"24px\">\n",
              "    <g>\n",
              "        <path d=\"M19 3H5c-1.1 0-2 .9-2 2v14c0 1.1.9 2 2 2h14c1.1 0 2-.9 2-2V5c0-1.1-.9-2-2-2zM9 17H7v-7h2v7zm4 0h-2V7h2v10zm4 0h-2v-4h2v4z\"/>\n",
              "    </g>\n",
              "</svg>\n",
              "  </button>\n",
              "\n",
              "<style>\n",
              "  .colab-df-quickchart {\n",
              "      --bg-color: #E8F0FE;\n",
              "      --fill-color: #1967D2;\n",
              "      --hover-bg-color: #E2EBFA;\n",
              "      --hover-fill-color: #174EA6;\n",
              "      --disabled-fill-color: #AAA;\n",
              "      --disabled-bg-color: #DDD;\n",
              "  }\n",
              "\n",
              "  [theme=dark] .colab-df-quickchart {\n",
              "      --bg-color: #3B4455;\n",
              "      --fill-color: #D2E3FC;\n",
              "      --hover-bg-color: #434B5C;\n",
              "      --hover-fill-color: #FFFFFF;\n",
              "      --disabled-bg-color: #3B4455;\n",
              "      --disabled-fill-color: #666;\n",
              "  }\n",
              "\n",
              "  .colab-df-quickchart {\n",
              "    background-color: var(--bg-color);\n",
              "    border: none;\n",
              "    border-radius: 50%;\n",
              "    cursor: pointer;\n",
              "    display: none;\n",
              "    fill: var(--fill-color);\n",
              "    height: 32px;\n",
              "    padding: 0;\n",
              "    width: 32px;\n",
              "  }\n",
              "\n",
              "  .colab-df-quickchart:hover {\n",
              "    background-color: var(--hover-bg-color);\n",
              "    box-shadow: 0 1px 2px rgba(60, 64, 67, 0.3), 0 1px 3px 1px rgba(60, 64, 67, 0.15);\n",
              "    fill: var(--button-hover-fill-color);\n",
              "  }\n",
              "\n",
              "  .colab-df-quickchart-complete:disabled,\n",
              "  .colab-df-quickchart-complete:disabled:hover {\n",
              "    background-color: var(--disabled-bg-color);\n",
              "    fill: var(--disabled-fill-color);\n",
              "    box-shadow: none;\n",
              "  }\n",
              "\n",
              "  .colab-df-spinner {\n",
              "    border: 2px solid var(--fill-color);\n",
              "    border-color: transparent;\n",
              "    border-bottom-color: var(--fill-color);\n",
              "    animation:\n",
              "      spin 1s steps(1) infinite;\n",
              "  }\n",
              "\n",
              "  @keyframes spin {\n",
              "    0% {\n",
              "      border-color: transparent;\n",
              "      border-bottom-color: var(--fill-color);\n",
              "      border-left-color: var(--fill-color);\n",
              "    }\n",
              "    20% {\n",
              "      border-color: transparent;\n",
              "      border-left-color: var(--fill-color);\n",
              "      border-top-color: var(--fill-color);\n",
              "    }\n",
              "    30% {\n",
              "      border-color: transparent;\n",
              "      border-left-color: var(--fill-color);\n",
              "      border-top-color: var(--fill-color);\n",
              "      border-right-color: var(--fill-color);\n",
              "    }\n",
              "    40% {\n",
              "      border-color: transparent;\n",
              "      border-right-color: var(--fill-color);\n",
              "      border-top-color: var(--fill-color);\n",
              "    }\n",
              "    60% {\n",
              "      border-color: transparent;\n",
              "      border-right-color: var(--fill-color);\n",
              "    }\n",
              "    80% {\n",
              "      border-color: transparent;\n",
              "      border-right-color: var(--fill-color);\n",
              "      border-bottom-color: var(--fill-color);\n",
              "    }\n",
              "    90% {\n",
              "      border-color: transparent;\n",
              "      border-bottom-color: var(--fill-color);\n",
              "    }\n",
              "  }\n",
              "</style>\n",
              "\n",
              "  <script>\n",
              "    async function quickchart(key) {\n",
              "      const quickchartButtonEl =\n",
              "        document.querySelector('#' + key + ' button');\n",
              "      quickchartButtonEl.disabled = true;  // To prevent multiple clicks.\n",
              "      quickchartButtonEl.classList.add('colab-df-spinner');\n",
              "      try {\n",
              "        const charts = await google.colab.kernel.invokeFunction(\n",
              "            'suggestCharts', [key], {});\n",
              "      } catch (error) {\n",
              "        console.error('Error during call to suggestCharts:', error);\n",
              "      }\n",
              "      quickchartButtonEl.classList.remove('colab-df-spinner');\n",
              "      quickchartButtonEl.classList.add('colab-df-quickchart-complete');\n",
              "    }\n",
              "    (() => {\n",
              "      let quickchartButtonEl =\n",
              "        document.querySelector('#df-9a856ec0-5f9f-44df-90bf-0ce62fd3238b button');\n",
              "      quickchartButtonEl.style.display =\n",
              "        google.colab.kernel.accessAllowed ? 'block' : 'none';\n",
              "    })();\n",
              "  </script>\n",
              "</div>\n",
              "\n",
              "    </div>\n",
              "  </div>\n"
            ],
            "application/vnd.google.colaboratory.intrinsic+json": {
              "type": "dataframe",
              "variable_name": "df"
            }
          },
          "metadata": {},
          "execution_count": 8
        }
      ],
      "source": [
        "df = pd.read_csv(\"/content/drive/MyDrive/SpeechEmotionDetection/dataset_features/audio_features.csv\")\n",
        "df.head()"
      ]
    },
    {
      "cell_type": "markdown",
      "metadata": {
        "id": "iEMtHCohO6T_"
      },
      "source": [
        "## Plot the Sample Waveform and MFCC"
      ]
    },
    {
      "cell_type": "code",
      "execution_count": 9,
      "metadata": {
        "id": "q7UX4r65NOj8"
      },
      "outputs": [],
      "source": [
        "audio_file = random.choice(df['file_path'])"
      ]
    },
    {
      "cell_type": "code",
      "execution_count": 10,
      "metadata": {
        "id": "JDbeSKIt7brO"
      },
      "outputs": [],
      "source": [
        "# Load audio file\n",
        "y, sr = librosa.load(audio_file, sr=None)\n",
        "\n",
        "# Compute MFCCs\n",
        "mfccs = librosa.feature.mfcc(y=y, sr=sr, n_mfcc=40)"
      ]
    },
    {
      "cell_type": "code",
      "execution_count": 11,
      "metadata": {
        "colab": {
          "base_uri": "https://localhost:8080/",
          "height": 607
        },
        "id": "QmcpFc0q7ag8",
        "outputId": "9544342b-c81f-4b7a-c13a-a721f125aac1"
      },
      "outputs": [
        {
          "output_type": "display_data",
          "data": {
            "text/plain": [
              "<Figure size 1000x600 with 3 Axes>"
            ],
            "image/png": "[encoded data removed]"
          },
          "metadata": {}
        }
      ],
      "source": [
        "# Create a figure with subplots\n",
        "fig, ax = plt.subplots(nrows=2, figsize=(10, 6))\n",
        "\n",
        "# Plot waveform\n",
        "ax[0].set_title(f\"Waveform of {audio_file.split('/')[-1]}\")\n",
        "librosa.display.waveshow(y, sr=sr, ax=ax[0])\n",
        "ax[0].set_xlabel(\"Time\")\n",
        "ax[0].set_ylabel(\"Amplitude\")\n",
        "\n",
        "# Plot MFCC features\n",
        "img = librosa.display.specshow(mfccs, x_axis=\"time\", sr=sr, ax=ax[1], cmap=\"viridis\")\n",
        "ax[1].set_title(\"MFCC Features\")\n",
        "ax[1].set_xlabel(\"Time\")\n",
        "ax[1].set_ylabel(\"MFCC Coefficients\")\n",
        "fig.colorbar(img, ax=ax[1], format=\"%+2.f\")\n",
        "# Show plot\n",
        "plt.tight_layout()\n",
        "plt.show()"
      ]
    },
    {
      "cell_type": "markdown",
      "metadata": {
        "id": "CQhXMakYOYPi"
      },
      "source": [
        "## Preporcessing Dataset"
      ]
    },
    {
      "cell_type": "code",
      "execution_count": 12,
      "metadata": {
        "colab": {
          "base_uri": "https://localhost:8080/",
          "height": 342
        },
        "id": "n6Ic5gxFPbwp",
        "outputId": "43f15c00-bb00-4d47-e741-d4f7f16f09e4"
      },
      "outputs": [
        {
          "output_type": "execute_result",
          "data": {
            "text/plain": [
              "                                           file_path                 category  \\\n",
              "0  /content/drive/MyDrive/data/Audio_Song_Actors_...  Audio_Song_Actors_01-24   \n",
              "1  /content/drive/MyDrive/data/Audio_Song_Actors_...  Audio_Song_Actors_01-24   \n",
              "2  /content/drive/MyDrive/data/Audio_Song_Actors_...  Audio_Song_Actors_01-24   \n",
              "3  /content/drive/MyDrive/data/Audio_Song_Actors_...  Audio_Song_Actors_01-24   \n",
              "4  /content/drive/MyDrive/data/Audio_Song_Actors_...  Audio_Song_Actors_01-24   \n",
              "\n",
              "   emotion   feature_0  feature_1  feature_2  feature_3  feature_4  feature_5  \\\n",
              "0  neutral -574.381836  67.309967 -30.840872  -0.162372  -4.934814 -10.494026   \n",
              "1  neutral -577.578308  65.770882 -33.157261  -1.443423  -5.831300  -6.498610   \n",
              "2     calm -600.616516  65.064606 -22.673502   1.737541 -12.696936 -12.857448   \n",
              "3     calm -596.789917  66.608055 -21.163029   3.917316 -12.880773 -14.032175   \n",
              "4  neutral -552.644531  60.612236 -35.158916   2.173671  -6.746623  -7.774879   \n",
              "\n",
              "   feature_6  ...   feature_170   feature_171   feature_172   feature_173  \\\n",
              "0 -16.890097  ...  4.931115e-07  2.266706e-07  1.516844e-07  1.128038e-07   \n",
              "1 -19.072449  ...  8.492192e-07  3.160353e-07  2.828727e-07  2.723230e-07   \n",
              "2 -16.881628  ...  9.574217e-07  6.360152e-07  4.583163e-07  3.109663e-07   \n",
              "3 -17.103786  ...  1.374138e-06  9.269112e-07  6.345528e-07  5.491802e-07   \n",
              "4 -17.865114  ...  3.037660e-06  1.450305e-06  9.042032e-07  8.087686e-07   \n",
              "\n",
              "    feature_174   feature_175   feature_176   feature_177   feature_178  \\\n",
              "0  1.238986e-07  9.720392e-08  6.819166e-08  2.761990e-08  8.452344e-09   \n",
              "1  2.116964e-07  1.211949e-07  8.906512e-08  3.217734e-08  8.789963e-09   \n",
              "2  2.960900e-07  2.574198e-07  1.718454e-07  8.539401e-08  1.333675e-08   \n",
              "3  5.642018e-07  4.923513e-07  3.847428e-07  1.716314e-07  1.848683e-08   \n",
              "4  5.226561e-07  3.008404e-07  2.062918e-07  1.048719e-07  2.053573e-08   \n",
              "\n",
              "    feature_179  \n",
              "0  6.896584e-09  \n",
              "1  7.277144e-09  \n",
              "2  7.446569e-09  \n",
              "3  7.934819e-09  \n",
              "4  7.839788e-09  \n",
              "\n",
              "[5 rows x 183 columns]"
            ],
            "text/html": [
              "\n",
              "  <div id=\"df-f6d5271c-5ec6-42a9-afd1-15b948fe117f\" class=\"colab-df-container\">\n",
              "    <div>\n",
              "<style scoped>\n",
              "    .dataframe tbody tr th:only-of-type {\n",
              "        vertical-align: middle;\n",
              "    }\n",
              "\n",
              "    .dataframe tbody tr th {\n",
              "        vertical-align: top;\n",
              "    }\n",
              "\n",
              "    .dataframe thead th {\n",
              "        text-align: right;\n",
              "    }\n",
              "</style>\n",
              "<table border=\"1\" class=\"dataframe\">\n",
              "  <thead>\n",
              "    <tr style=\"text-align: right;\">\n",
              "      <th></th>\n",
              "      <th>file_path</th>\n",
              "      <th>category</th>\n",
              "      <th>emotion</th>\n",
              "      <th>feature_0</th>\n",
              "      <th>feature_1</th>\n",
              "      <th>feature_2</th>\n",
              "      <th>feature_3</th>\n",
              "      <th>feature_4</th>\n",
              "      <th>feature_5</th>\n",
              "      <th>feature_6</th>\n",
              "      <th>...</th>\n",
              "      <th>feature_170</th>\n",
              "      <th>feature_171</th>\n",
              "      <th>feature_172</th>\n",
              "      <th>feature_173</th>\n",
              "      <th>feature_174</th>\n",
              "      <th>feature_175</th>\n",
              "      <th>feature_176</th>\n",
              "      <th>feature_177</th>\n",
              "      <th>feature_178</th>\n",
              "      <th>feature_179</th>\n",
              "    </tr>\n",
              "  </thead>\n",
              "  <tbody>\n",
              "    <tr>\n",
              "      <th>0</th>\n",
              "      <td>/content/drive/MyDrive/data/Audio_Song_Actors_...</td>\n",
              "      <td>Audio_Song_Actors_01-24</td>\n",
              "      <td>neutral</td>\n",
              "      <td>-574.381836</td>\n",
              "      <td>67.309967</td>\n",
              "      <td>-30.840872</td>\n",
              "      <td>-0.162372</td>\n",
              "      <td>-4.934814</td>\n",
              "      <td>-10.494026</td>\n",
              "      <td>-16.890097</td>\n",
              "      <td>...</td>\n",
              "      <td>4.931115e-07</td>\n",
              "      <td>2.266706e-07</td>\n",
              "      <td>1.516844e-07</td>\n",
              "      <td>1.128038e-07</td>\n",
              "      <td>1.238986e-07</td>\n",
              "      <td>9.720392e-08</td>\n",
              "      <td>6.819166e-08</td>\n",
              "      <td>2.761990e-08</td>\n",
              "      <td>8.452344e-09</td>\n",
              "      <td>6.896584e-09</td>\n",
              "    </tr>\n",
              "    <tr>\n",
              "      <th>1</th>\n",
              "      <td>/content/drive/MyDrive/data/Audio_Song_Actors_...</td>\n",
              "      <td>Audio_Song_Actors_01-24</td>\n",
              "      <td>neutral</td>\n",
              "      <td>-577.578308</td>\n",
              "      <td>65.770882</td>\n",
              "      <td>-33.157261</td>\n",
              "      <td>-1.443423</td>\n",
              "      <td>-5.831300</td>\n",
              "      <td>-6.498610</td>\n",
              "      <td>-19.072449</td>\n",
              "      <td>...</td>\n",
              "      <td>8.492192e-07</td>\n",
              "      <td>3.160353e-07</td>\n",
              "      <td>2.828727e-07</td>\n",
              "      <td>2.723230e-07</td>\n",
              "      <td>2.116964e-07</td>\n",
              "      <td>1.211949e-07</td>\n",
              "      <td>8.906512e-08</td>\n",
              "      <td>3.217734e-08</td>\n",
              "      <td>8.789963e-09</td>\n",
              "      <td>7.277144e-09</td>\n",
              "    </tr>\n",
              "    <tr>\n",
              "      <th>2</th>\n",
              "      <td>/content/drive/MyDrive/data/Audio_Song_Actors_...</td>\n",
              "      <td>Audio_Song_Actors_01-24</td>\n",
              "      <td>calm</td>\n",
              "      <td>-600.616516</td>\n",
              "      <td>65.064606</td>\n",
              "      <td>-22.673502</td>\n",
              "      <td>1.737541</td>\n",
              "      <td>-12.696936</td>\n",
              "      <td>-12.857448</td>\n",
              "      <td>-16.881628</td>\n",
              "      <td>...</td>\n",
              "      <td>9.574217e-07</td>\n",
              "      <td>6.360152e-07</td>\n",
              "      <td>4.583163e-07</td>\n",
              "      <td>3.109663e-07</td>\n",
              "      <td>2.960900e-07</td>\n",
              "      <td>2.574198e-07</td>\n",
              "      <td>1.718454e-07</td>\n",
              "      <td>8.539401e-08</td>\n",
              "      <td>1.333675e-08</td>\n",
              "      <td>7.446569e-09</td>\n",
              "    </tr>\n",
              "    <tr>\n",
              "      <th>3</th>\n",
              "      <td>/content/drive/MyDrive/data/Audio_Song_Actors_...</td>\n",
              "      <td>Audio_Song_Actors_01-24</td>\n",
              "      <td>calm</td>\n",
              "      <td>-596.789917</td>\n",
              "      <td>66.608055</td>\n",
              "      <td>-21.163029</td>\n",
              "      <td>3.917316</td>\n",
              "      <td>-12.880773</td>\n",
              "      <td>-14.032175</td>\n",
              "      <td>-17.103786</td>\n",
              "      <td>...</td>\n",
              "      <td>1.374138e-06</td>\n",
              "      <td>9.269112e-07</td>\n",
              "      <td>6.345528e-07</td>\n",
              "      <td>5.491802e-07</td>\n",
              "      <td>5.642018e-07</td>\n",
              "      <td>4.923513e-07</td>\n",
              "      <td>3.847428e-07</td>\n",
              "      <td>1.716314e-07</td>\n",
              "      <td>1.848683e-08</td>\n",
              "      <td>7.934819e-09</td>\n",
              "    </tr>\n",
              "    <tr>\n",
              "      <th>4</th>\n",
              "      <td>/content/drive/MyDrive/data/Audio_Song_Actors_...</td>\n",
              "      <td>Audio_Song_Actors_01-24</td>\n",
              "      <td>neutral</td>\n",
              "      <td>-552.644531</td>\n",
              "      <td>60.612236</td>\n",
              "      <td>-35.158916</td>\n",
              "      <td>2.173671</td>\n",
              "      <td>-6.746623</td>\n",
              "      <td>-7.774879</td>\n",
              "      <td>-17.865114</td>\n",
              "      <td>...</td>\n",
              "      <td>3.037660e-06</td>\n",
              "      <td>1.450305e-06</td>\n",
              "      <td>9.042032e-07</td>\n",
              "      <td>8.087686e-07</td>\n",
              "      <td>5.226561e-07</td>\n",
              "      <td>3.008404e-07</td>\n",
              "      <td>2.062918e-07</td>\n",
              "      <td>1.048719e-07</td>\n",
              "      <td>2.053573e-08</td>\n",
              "      <td>7.839788e-09</td>\n",
              "    </tr>\n",
              "  </tbody>\n",
              "</table>\n",
              "<p>5 rows × 183 columns</p>\n",
              "</div>\n",
              "    <div class=\"colab-df-buttons\">\n",
              "\n",
              "  <div class=\"colab-df-container\">\n",
              "    <button class=\"colab-df-convert\" onclick=\"convertToInteractive('df-f6d5271c-5ec6-42a9-afd1-15b948fe117f')\"\n",
              "            title=\"Convert this dataframe to an interactive table.\"\n",
              "            style=\"display:none;\">\n",
              "\n",
              "  <svg xmlns=\"http://www.w3.org/2000/svg\" height=\"24px\" viewBox=\"0 -960 960 960\">\n",
              "    <path d=\"M120-120v-720h720v720H120Zm60-500h600v-160H180v160Zm220 220h160v-160H400v160Zm0 220h160v-160H400v160ZM180-400h160v-160H180v160Zm440 0h160v-160H620v160ZM180-180h160v-160H180v160Zm440 0h160v-160H620v160Z\"/>\n",
              "  </svg>\n",
              "    </button>\n",
              "\n",
              "  <style>\n",
              "    .colab-df-container {\n",
              "      display:flex;\n",
              "      gap: 12px;\n",
              "    }\n",
              "\n",
              "    .colab-df-convert {\n",
              "      background-color: #E8F0FE;\n",
              "      border: none;\n",
              "      border-radius: 50%;\n",
              "      cursor: pointer;\n",
              "      display: none;\n",
              "      fill: #1967D2;\n",
              "      height: 32px;\n",
              "      padding: 0 0 0 0;\n",
              "      width: 32px;\n",
              "    }\n",
              "\n",
              "    .colab-df-convert:hover {\n",
              "      background-color: #E2EBFA;\n",
              "      box-shadow: 0px 1px 2px rgba(60, 64, 67, 0.3), 0px 1px 3px 1px rgba(60, 64, 67, 0.15);\n",
              "      fill: #174EA6;\n",
              "    }\n",
              "\n",
              "    .colab-df-buttons div {\n",
              "      margin-bottom: 4px;\n",
              "    }\n",
              "\n",
              "    [theme=dark] .colab-df-convert {\n",
              "      background-color: #3B4455;\n",
              "      fill: #D2E3FC;\n",
              "    }\n",
              "\n",
              "    [theme=dark] .colab-df-convert:hover {\n",
              "      background-color: #434B5C;\n",
              "      box-shadow: 0px 1px 3px 1px rgba(0, 0, 0, 0.15);\n",
              "      filter: drop-shadow(0px 1px 2px rgba(0, 0, 0, 0.3));\n",
              "      fill: #FFFFFF;\n",
              "    }\n",
              "  </style>\n",
              "\n",
              "    <script>\n",
              "      const buttonEl =\n",
              "        document.querySelector('#df-f6d5271c-5ec6-42a9-afd1-15b948fe117f button.colab-df-convert');\n",
              "      buttonEl.style.display =\n",
              "        google.colab.kernel.accessAllowed ? 'block' : 'none';\n",
              "\n",
              "      async function convertToInteractive(key) {\n",
              "        const element = document.querySelector('#df-f6d5271c-5ec6-42a9-afd1-15b948fe117f');\n",
              "        const dataTable =\n",
              "          await google.colab.kernel.invokeFunction('convertToInteractive',\n",
              "                                                    [key], {});\n",
              "        if (!dataTable) return;\n",
              "\n",
              "        const docLinkHtml = 'Like what you see? Visit the ' +\n",
              "          '<a target=\"_blank\" href=https://colab.research.google.com/notebooks/data_table.ipynb>data table notebook</a>'\n",
              "          + ' to learn more about interactive tables.';\n",
              "        element.innerHTML = '';\n",
              "        dataTable['output_type'] = 'display_data';\n",
              "        await google.colab.output.renderOutput(dataTable, element);\n",
              "        const docLink = document.createElement('div');\n",
              "        docLink.innerHTML = docLinkHtml;\n",
              "        element.appendChild(docLink);\n",
              "      }\n",
              "    </script>\n",
              "  </div>\n",
              "\n",
              "\n",
              "<div id=\"df-b6f25d4d-1c64-4aee-b0d4-fe9a0bfa612f\">\n",
              "  <button class=\"colab-df-quickchart\" onclick=\"quickchart('df-b6f25d4d-1c64-4aee-b0d4-fe9a0bfa612f')\"\n",
              "            title=\"Suggest charts\"\n",
              "            style=\"display:none;\">\n",
              "\n",
              "<svg xmlns=\"http://www.w3.org/2000/svg\" height=\"24px\"viewBox=\"0 0 24 24\"\n",
              "     width=\"24px\">\n",
              "    <g>\n",
              "        <path d=\"M19 3H5c-1.1 0-2 .9-2 2v14c0 1.1.9 2 2 2h14c1.1 0 2-.9 2-2V5c0-1.1-.9-2-2-2zM9 17H7v-7h2v7zm4 0h-2V7h2v10zm4 0h-2v-4h2v4z\"/>\n",
              "    </g>\n",
              "</svg>\n",
              "  </button>\n",
              "\n",
              "<style>\n",
              "  .colab-df-quickchart {\n",
              "      --bg-color: #E8F0FE;\n",
              "      --fill-color: #1967D2;\n",
              "      --hover-bg-color: #E2EBFA;\n",
              "      --hover-fill-color: #174EA6;\n",
              "      --disabled-fill-color: #AAA;\n",
              "      --disabled-bg-color: #DDD;\n",
              "  }\n",
              "\n",
              "  [theme=dark] .colab-df-quickchart {\n",
              "      --bg-color: #3B4455;\n",
              "      --fill-color: #D2E3FC;\n",
              "      --hover-bg-color: #434B5C;\n",
              "      --hover-fill-color: #FFFFFF;\n",
              "      --disabled-bg-color: #3B4455;\n",
              "      --disabled-fill-color: #666;\n",
              "  }\n",
              "\n",
              "  .colab-df-quickchart {\n",
              "    background-color: var(--bg-color);\n",
              "    border: none;\n",
              "    border-radius: 50%;\n",
              "    cursor: pointer;\n",
              "    display: none;\n",
              "    fill: var(--fill-color);\n",
              "    height: 32px;\n",
              "    padding: 0;\n",
              "    width: 32px;\n",
              "  }\n",
              "\n",
              "  .colab-df-quickchart:hover {\n",
              "    background-color: var(--hover-bg-color);\n",
              "    box-shadow: 0 1px 2px rgba(60, 64, 67, 0.3), 0 1px 3px 1px rgba(60, 64, 67, 0.15);\n",
              "    fill: var(--button-hover-fill-color);\n",
              "  }\n",
              "\n",
              "  .colab-df-quickchart-complete:disabled,\n",
              "  .colab-df-quickchart-complete:disabled:hover {\n",
              "    background-color: var(--disabled-bg-color);\n",
              "    fill: var(--disabled-fill-color);\n",
              "    box-shadow: none;\n",
              "  }\n",
              "\n",
              "  .colab-df-spinner {\n",
              "    border: 2px solid var(--fill-color);\n",
              "    border-color: transparent;\n",
              "    border-bottom-color: var(--fill-color);\n",
              "    animation:\n",
              "      spin 1s steps(1) infinite;\n",
              "  }\n",
              "\n",
              "  @keyframes spin {\n",
              "    0% {\n",
              "      border-color: transparent;\n",
              "      border-bottom-color: var(--fill-color);\n",
              "      border-left-color: var(--fill-color);\n",
              "    }\n",
              "    20% {\n",
              "      border-color: transparent;\n",
              "      border-left-color: var(--fill-color);\n",
              "      border-top-color: var(--fill-color);\n",
              "    }\n",
              "    30% {\n",
              "      border-color: transparent;\n",
              "      border-left-color: var(--fill-color);\n",
              "      border-top-color: var(--fill-color);\n",
              "      border-right-color: var(--fill-color);\n",
              "    }\n",
              "    40% {\n",
              "      border-color: transparent;\n",
              "      border-right-color: var(--fill-color);\n",
              "      border-top-color: var(--fill-color);\n",
              "    }\n",
              "    60% {\n",
              "      border-color: transparent;\n",
              "      border-right-color: var(--fill-color);\n",
              "    }\n",
              "    80% {\n",
              "      border-color: transparent;\n",
              "      border-right-color: var(--fill-color);\n",
              "      border-bottom-color: var(--fill-color);\n",
              "    }\n",
              "    90% {\n",
              "      border-color: transparent;\n",
              "      border-bottom-color: var(--fill-color);\n",
              "    }\n",
              "  }\n",
              "</style>\n",
              "\n",
              "  <script>\n",
              "    async function quickchart(key) {\n",
              "      const quickchartButtonEl =\n",
              "        document.querySelector('#' + key + ' button');\n",
              "      quickchartButtonEl.disabled = true;  // To prevent multiple clicks.\n",
              "      quickchartButtonEl.classList.add('colab-df-spinner');\n",
              "      try {\n",
              "        const charts = await google.colab.kernel.invokeFunction(\n",
              "            'suggestCharts', [key], {});\n",
              "      } catch (error) {\n",
              "        console.error('Error during call to suggestCharts:', error);\n",
              "      }\n",
              "      quickchartButtonEl.classList.remove('colab-df-spinner');\n",
              "      quickchartButtonEl.classList.add('colab-df-quickchart-complete');\n",
              "    }\n",
              "    (() => {\n",
              "      let quickchartButtonEl =\n",
              "        document.querySelector('#df-b6f25d4d-1c64-4aee-b0d4-fe9a0bfa612f button');\n",
              "      quickchartButtonEl.style.display =\n",
              "        google.colab.kernel.accessAllowed ? 'block' : 'none';\n",
              "    })();\n",
              "  </script>\n",
              "</div>\n",
              "\n",
              "    </div>\n",
              "  </div>\n"
            ],
            "application/vnd.google.colaboratory.intrinsic+json": {
              "type": "dataframe",
              "variable_name": "df"
            }
          },
          "metadata": {},
          "execution_count": 12
        }
      ],
      "source": [
        "df.head()"
      ]
    },
    {
      "cell_type": "code",
      "execution_count": 13,
      "metadata": {
        "id": "-Gh50e68PbrH"
      },
      "outputs": [],
      "source": [
        "# Encode emotions\n",
        "label_encoder = LabelEncoder()\n",
        "df[\"emotion\"] = label_encoder.fit_transform(df[\"emotion\"])"
      ]
    },
    {
      "cell_type": "code",
      "execution_count": 14,
      "metadata": {
        "colab": {
          "base_uri": "https://localhost:8080/",
          "height": 366
        },
        "id": "LmgL4OxUPbUK",
        "outputId": "81166ee9-f82d-40c0-ff6c-c953f46ebaf7"
      },
      "outputs": [
        {
          "output_type": "execute_result",
          "data": {
            "text/plain": [
              "emotion\n",
              "1    22\n",
              "4    16\n",
              "6    16\n",
              "3    16\n",
              "7    16\n",
              "5    12\n",
              "0    12\n",
              "2    10\n",
              "Name: count, dtype: int64"
            ],
            "text/html": [
              "<div>\n",
              "<style scoped>\n",
              "    .dataframe tbody tr th:only-of-type {\n",
              "        vertical-align: middle;\n",
              "    }\n",
              "\n",
              "    .dataframe tbody tr th {\n",
              "        vertical-align: top;\n",
              "    }\n",
              "\n",
              "    .dataframe thead th {\n",
              "        text-align: right;\n",
              "    }\n",
              "</style>\n",
              "<table border=\"1\" class=\"dataframe\">\n",
              "  <thead>\n",
              "    <tr style=\"text-align: right;\">\n",
              "      <th></th>\n",
              "      <th>count</th>\n",
              "    </tr>\n",
              "    <tr>\n",
              "      <th>emotion</th>\n",
              "      <th></th>\n",
              "    </tr>\n",
              "  </thead>\n",
              "  <tbody>\n",
              "    <tr>\n",
              "      <th>1</th>\n",
              "      <td>22</td>\n",
              "    </tr>\n",
              "    <tr>\n",
              "      <th>4</th>\n",
              "      <td>16</td>\n",
              "    </tr>\n",
              "    <tr>\n",
              "      <th>6</th>\n",
              "      <td>16</td>\n",
              "    </tr>\n",
              "    <tr>\n",
              "      <th>3</th>\n",
              "      <td>16</td>\n",
              "    </tr>\n",
              "    <tr>\n",
              "      <th>7</th>\n",
              "      <td>16</td>\n",
              "    </tr>\n",
              "    <tr>\n",
              "      <th>5</th>\n",
              "      <td>12</td>\n",
              "    </tr>\n",
              "    <tr>\n",
              "      <th>0</th>\n",
              "      <td>12</td>\n",
              "    </tr>\n",
              "    <tr>\n",
              "      <th>2</th>\n",
              "      <td>10</td>\n",
              "    </tr>\n",
              "  </tbody>\n",
              "</table>\n",
              "</div><br><label><b>dtype:</b> int64</label>"
            ]
          },
          "metadata": {},
          "execution_count": 14
        }
      ],
      "source": [
        "df['emotion'].value_counts()"
      ]
    },
    {
      "cell_type": "code",
      "execution_count": 15,
      "metadata": {
        "id": "JRyglgjTPbOm"
      },
      "outputs": [],
      "source": [
        "# Excluding non-feature columns\n",
        "exclude_columns = [\"emotion\", \"file_path\", \"category\"]\n",
        "\n",
        "# Split data into features and labels\n",
        "X = df.drop(columns=exclude_columns, axis=1)\n",
        "y = df[\"emotion\"]"
      ]
    },
    {
      "cell_type": "code",
      "execution_count": 16,
      "metadata": {
        "id": "Q135BrIFPbI-"
      },
      "outputs": [],
      "source": [
        "# Standardize features\n",
        "scaler = StandardScaler()\n",
        "X = scaler.fit_transform(X)"
      ]
    },
    {
      "cell_type": "code",
      "execution_count": 17,
      "metadata": {
        "colab": {
          "base_uri": "https://localhost:8080/"
        },
        "id": "xqjz8JB6Qzv0",
        "outputId": "42e4dbb6-97af-4dcb-9e0d-8f700221ff0b"
      },
      "outputs": [
        {
          "output_type": "execute_result",
          "data": {
            "text/plain": [
              "((84, 180), (36, 180), (84,), (36,))"
            ]
          },
          "metadata": {},
          "execution_count": 17
        }
      ],
      "source": [
        "# Split into training and testing\n",
        "X_train, X_test, y_train, y_test = train_test_split(X, y, test_size=0.3, random_state=28)\n",
        "X_train.shape, X_test.shape, y_train.shape, y_test.shape"
      ]
    },
    {
      "cell_type": "code",
      "execution_count": 18,
      "metadata": {
        "colab": {
          "base_uri": "https://localhost:8080/"
        },
        "id": "FZT5j13QPbD8",
        "outputId": "da67745c-5496-4289-bdeb-5829455246e3"
      },
      "outputs": [
        {
          "output_type": "stream",
          "name": "stdout",
          "text": [
            "Data preprocessing completed! Datasets saved in dataset_features/\n"
          ]
        }
      ],
      "source": [
        "np.save(os.path.join(output_dir, \"X_train.npy\"), X_train)\n",
        "np.save(os.path.join(output_dir, \"X_test.npy\"), X_test)\n",
        "np.save(os.path.join(output_dir, \"y_train.npy\"), y_train)\n",
        "np.save(os.path.join(output_dir, \"y_test.npy\"), y_test)\n",
        "\n",
        "print(\"Data preprocessing completed! Datasets saved in dataset_features/\")"
      ]
    },
    {
      "cell_type": "markdown",
      "metadata": {
        "id": "19-AQWjvQ9Ow"
      },
      "source": [
        "## Model Training"
      ]
    },
    {
      "cell_type": "code",
      "execution_count": 19,
      "metadata": {
        "id": "7tNg7wC1PbA6"
      },
      "outputs": [],
      "source": [
        "# Load dataset\n",
        "dataset_dir = \"/content/drive/MyDrive/SpeechEmotionDetection/dataset_features\"\n",
        "X_train = np.load(os.path.join(dataset_dir, \"X_train.npy\"))\n",
        "X_test = np.load(os.path.join(dataset_dir, \"X_test.npy\"))\n",
        "y_train = np.load(os.path.join(dataset_dir, \"y_train.npy\"))\n",
        "y_test = np.load(os.path.join(dataset_dir, \"y_test.npy\"))"
      ]
    },
    {
      "cell_type": "code",
      "execution_count": 20,
      "metadata": {
        "colab": {
          "base_uri": "https://localhost:8080/"
        },
        "id": "bRIbLMC2RDoV",
        "outputId": "a824346b-ca0d-4247-a89c-a3102f6540c9"
      },
      "outputs": [
        {
          "output_type": "stream",
          "name": "stderr",
          "text": [
            "/usr/local/lib/python3.11/dist-packages/keras/src/layers/convolutional/base_conv.py:107: UserWarning: Do not pass an `input_shape`/`input_dim` argument to a layer. When using Sequential models, prefer using an `Input(shape)` object as the first layer in the model instead.\n",
            "  super().__init__(activity_regularizer=activity_regularizer, **kwargs)\n"
          ]
        }
      ],
      "source": [
        "# Define CNN Model\n",
        "model = Sequential([\n",
        "    Conv1D(64, kernel_size=3, activation=\"relu\", input_shape=(X_train.shape[1], 1)),\n",
        "    MaxPooling1D(2),\n",
        "    Conv1D(128, kernel_size=3, activation=\"relu\"),\n",
        "    MaxPooling1D(2),\n",
        "    Flatten(),\n",
        "    Dense(256, activation=\"relu\"),\n",
        "    Dropout(0.5),\n",
        "    Dense(len(np.unique(y_train)), activation=\"softmax\")\n",
        "])"
      ]
    },
    {
      "cell_type": "code",
      "execution_count": 21,
      "metadata": {
        "colab": {
          "base_uri": "https://localhost:8080/",
          "height": 385
        },
        "id": "6E40A36BRNbO",
        "outputId": "0f625f34-be03-4660-b569-fa6b4e01389b"
      },
      "outputs": [
        {
          "output_type": "display_data",
          "data": {
            "text/plain": [
              "\u001b[1mModel: \"sequential\"\u001b[0m\n"
            ],
            "text/html": [
              "<pre style=\"white-space:pre;overflow-x:auto;line-height:normal;font-family:Menlo,'DejaVu Sans Mono',consolas,'Courier New',monospace\"><span style=\"font-weight: bold\">Model: \"sequential\"</span>\n",
              "</pre>\n"
            ]
          },
          "metadata": {}
        },
        {
          "output_type": "display_data",
          "data": {
            "text/plain": [
              "┏━━━━━━━━━━━━━━━━━━━━━━━━━━━━━━━━━━━━━━┳━━━━━━━━━━━━━━━━━━━━━━━━━━━━━┳━━━━━━━━━━━━━━━━━┓\n",
              "┃\u001b[1m \u001b[0m\u001b[1mLayer (type)                        \u001b[0m\u001b[1m \u001b[0m┃\u001b[1m \u001b[0m\u001b[1mOutput Shape               \u001b[0m\u001b[1m \u001b[0m┃\u001b[1m \u001b[0m\u001b[1m        Param #\u001b[0m\u001b[1m \u001b[0m┃\n",
              "┡━━━━━━━━━━━━━━━━━━━━━━━━━━━━━━━━━━━━━━╇━━━━━━━━━━━━━━━━━━━━━━━━━━━━━╇━━━━━━━━━━━━━━━━━┩\n",
              "│ conv1d (\u001b[38;5;33mConv1D\u001b[0m)                      │ (\u001b[38;5;45mNone\u001b[0m, \u001b[38;5;34m178\u001b[0m, \u001b[38;5;34m64\u001b[0m)             │             \u001b[38;5;34m256\u001b[0m │\n",
              "├──────────────────────────────────────┼─────────────────────────────┼─────────────────┤\n",
              "│ max_pooling1d (\u001b[38;5;33mMaxPooling1D\u001b[0m)         │ (\u001b[38;5;45mNone\u001b[0m, \u001b[38;5;34m89\u001b[0m, \u001b[38;5;34m64\u001b[0m)              │               \u001b[38;5;34m0\u001b[0m │\n",
              "├──────────────────────────────────────┼─────────────────────────────┼─────────────────┤\n",
              "│ conv1d_1 (\u001b[38;5;33mConv1D\u001b[0m)                    │ (\u001b[38;5;45mNone\u001b[0m, \u001b[38;5;34m87\u001b[0m, \u001b[38;5;34m128\u001b[0m)             │          \u001b[38;5;34m24,704\u001b[0m │\n",
              "├──────────────────────────────────────┼─────────────────────────────┼─────────────────┤\n",
              "│ max_pooling1d_1 (\u001b[38;5;33mMaxPooling1D\u001b[0m)       │ (\u001b[38;5;45mNone\u001b[0m, \u001b[38;5;34m43\u001b[0m, \u001b[38;5;34m128\u001b[0m)             │               \u001b[38;5;34m0\u001b[0m │\n",
              "├──────────────────────────────────────┼─────────────────────────────┼─────────────────┤\n",
              "│ flatten (\u001b[38;5;33mFlatten\u001b[0m)                    │ (\u001b[38;5;45mNone\u001b[0m, \u001b[38;5;34m5504\u001b[0m)                │               \u001b[38;5;34m0\u001b[0m │\n",
              "├──────────────────────────────────────┼─────────────────────────────┼─────────────────┤\n",
              "│ dense (\u001b[38;5;33mDense\u001b[0m)                        │ (\u001b[38;5;45mNone\u001b[0m, \u001b[38;5;34m256\u001b[0m)                 │       \u001b[38;5;34m1,409,280\u001b[0m │\n",
              "├──────────────────────────────────────┼─────────────────────────────┼─────────────────┤\n",
              "│ dropout (\u001b[38;5;33mDropout\u001b[0m)                    │ (\u001b[38;5;45mNone\u001b[0m, \u001b[38;5;34m256\u001b[0m)                 │               \u001b[38;5;34m0\u001b[0m │\n",
              "├──────────────────────────────────────┼─────────────────────────────┼─────────────────┤\n",
              "│ dense_1 (\u001b[38;5;33mDense\u001b[0m)                      │ (\u001b[38;5;45mNone\u001b[0m, \u001b[38;5;34m8\u001b[0m)                   │           \u001b[38;5;34m2,056\u001b[0m │\n",
              "└──────────────────────────────────────┴─────────────────────────────┴─────────────────┘\n"
            ],
            "text/html": [
              "<pre style=\"white-space:pre;overflow-x:auto;line-height:normal;font-family:Menlo,'DejaVu Sans Mono',consolas,'Courier New',monospace\">┏━━━━━━━━━━━━━━━━━━━━━━━━━━━━━━━━━━━━━━┳━━━━━━━━━━━━━━━━━━━━━━━━━━━━━┳━━━━━━━━━━━━━━━━━┓\n",
              "┃<span style=\"font-weight: bold\"> Layer (type)                         </span>┃<span style=\"font-weight: bold\"> Output Shape                </span>┃<span style=\"font-weight: bold\">         Param # </span>┃\n",
              "┡━━━━━━━━━━━━━━━━━━━━━━━━━━━━━━━━━━━━━━╇━━━━━━━━━━━━━━━━━━━━━━━━━━━━━╇━━━━━━━━━━━━━━━━━┩\n",
              "│ conv1d (<span style=\"color: #0087ff; text-decoration-color: #0087ff\">Conv1D</span>)                      │ (<span style=\"color: #00d7ff; text-decoration-color: #00d7ff\">None</span>, <span style=\"color: #00af00; text-decoration-color: #00af00\">178</span>, <span style=\"color: #00af00; text-decoration-color: #00af00\">64</span>)             │             <span style=\"color: #00af00; text-decoration-color: #00af00\">256</span> │\n",
              "├──────────────────────────────────────┼─────────────────────────────┼─────────────────┤\n",
              "│ max_pooling1d (<span style=\"color: #0087ff; text-decoration-color: #0087ff\">MaxPooling1D</span>)         │ (<span style=\"color: #00d7ff; text-decoration-color: #00d7ff\">None</span>, <span style=\"color: #00af00; text-decoration-color: #00af00\">89</span>, <span style=\"color: #00af00; text-decoration-color: #00af00\">64</span>)              │               <span style=\"color: #00af00; text-decoration-color: #00af00\">0</span> │\n",
              "├──────────────────────────────────────┼─────────────────────────────┼─────────────────┤\n",
              "│ conv1d_1 (<span style=\"color: #0087ff; text-decoration-color: #0087ff\">Conv1D</span>)                    │ (<span style=\"color: #00d7ff; text-decoration-color: #00d7ff\">None</span>, <span style=\"color: #00af00; text-decoration-color: #00af00\">87</span>, <span style=\"color: #00af00; text-decoration-color: #00af00\">128</span>)             │          <span style=\"color: #00af00; text-decoration-color: #00af00\">24,704</span> │\n",
              "├──────────────────────────────────────┼─────────────────────────────┼─────────────────┤\n",
              "│ max_pooling1d_1 (<span style=\"color: #0087ff; text-decoration-color: #0087ff\">MaxPooling1D</span>)       │ (<span style=\"color: #00d7ff; text-decoration-color: #00d7ff\">None</span>, <span style=\"color: #00af00; text-decoration-color: #00af00\">43</span>, <span style=\"color: #00af00; text-decoration-color: #00af00\">128</span>)             │               <span style=\"color: #00af00; text-decoration-color: #00af00\">0</span> │\n",
              "├──────────────────────────────────────┼─────────────────────────────┼─────────────────┤\n",
              "│ flatten (<span style=\"color: #0087ff; text-decoration-color: #0087ff\">Flatten</span>)                    │ (<span style=\"color: #00d7ff; text-decoration-color: #00d7ff\">None</span>, <span style=\"color: #00af00; text-decoration-color: #00af00\">5504</span>)                │               <span style=\"color: #00af00; text-decoration-color: #00af00\">0</span> │\n",
              "├──────────────────────────────────────┼─────────────────────────────┼─────────────────┤\n",
              "│ dense (<span style=\"color: #0087ff; text-decoration-color: #0087ff\">Dense</span>)                        │ (<span style=\"color: #00d7ff; text-decoration-color: #00d7ff\">None</span>, <span style=\"color: #00af00; text-decoration-color: #00af00\">256</span>)                 │       <span style=\"color: #00af00; text-decoration-color: #00af00\">1,409,280</span> │\n",
              "├──────────────────────────────────────┼─────────────────────────────┼─────────────────┤\n",
              "│ dropout (<span style=\"color: #0087ff; text-decoration-color: #0087ff\">Dropout</span>)                    │ (<span style=\"color: #00d7ff; text-decoration-color: #00d7ff\">None</span>, <span style=\"color: #00af00; text-decoration-color: #00af00\">256</span>)                 │               <span style=\"color: #00af00; text-decoration-color: #00af00\">0</span> │\n",
              "├──────────────────────────────────────┼─────────────────────────────┼─────────────────┤\n",
              "│ dense_1 (<span style=\"color: #0087ff; text-decoration-color: #0087ff\">Dense</span>)                      │ (<span style=\"color: #00d7ff; text-decoration-color: #00d7ff\">None</span>, <span style=\"color: #00af00; text-decoration-color: #00af00\">8</span>)                   │           <span style=\"color: #00af00; text-decoration-color: #00af00\">2,056</span> │\n",
              "└──────────────────────────────────────┴─────────────────────────────┴─────────────────┘\n",
              "</pre>\n"
            ]
          },
          "metadata": {}
        },
        {
          "output_type": "display_data",
          "data": {
            "text/plain": [
              "\u001b[1m Total params: \u001b[0m\u001b[38;5;34m1,436,296\u001b[0m (5.48 MB)\n"
            ],
            "text/html": [
              "<pre style=\"white-space:pre;overflow-x:auto;line-height:normal;font-family:Menlo,'DejaVu Sans Mono',consolas,'Courier New',monospace\"><span style=\"font-weight: bold\"> Total params: </span><span style=\"color: #00af00; text-decoration-color: #00af00\">1,436,296</span> (5.48 MB)\n",
              "</pre>\n"
            ]
          },
          "metadata": {}
        },
        {
          "output_type": "display_data",
          "data": {
            "text/plain": [
              "\u001b[1m Trainable params: \u001b[0m\u001b[38;5;34m1,436,296\u001b[0m (5.48 MB)\n"
            ],
            "text/html": [
              "<pre style=\"white-space:pre;overflow-x:auto;line-height:normal;font-family:Menlo,'DejaVu Sans Mono',consolas,'Courier New',monospace\"><span style=\"font-weight: bold\"> Trainable params: </span><span style=\"color: #00af00; text-decoration-color: #00af00\">1,436,296</span> (5.48 MB)\n",
              "</pre>\n"
            ]
          },
          "metadata": {}
        },
        {
          "output_type": "display_data",
          "data": {
            "text/plain": [
              "\u001b[1m Non-trainable params: \u001b[0m\u001b[38;5;34m0\u001b[0m (0.00 B)\n"
            ],
            "text/html": [
              "<pre style=\"white-space:pre;overflow-x:auto;line-height:normal;font-family:Menlo,'DejaVu Sans Mono',consolas,'Courier New',monospace\"><span style=\"font-weight: bold\"> Non-trainable params: </span><span style=\"color: #00af00; text-decoration-color: #00af00\">0</span> (0.00 B)\n",
              "</pre>\n"
            ]
          },
          "metadata": {}
        }
      ],
      "source": [
        "# Compile Model\n",
        "model.compile(loss=\"sparse_categorical_crossentropy\", optimizer=\"adam\", metrics=[\"accuracy\"])\n",
        "model.summary()"
      ]
    },
    {
      "cell_type": "code",
      "execution_count": 22,
      "metadata": {
        "colab": {
          "base_uri": "https://localhost:8080/"
        },
        "id": "AT9y4tVwRmQI",
        "outputId": "92200624-a967-4bc8-e517-17beddbeabbd"
      },
      "outputs": [
        {
          "output_type": "stream",
          "name": "stdout",
          "text": [
            "Epoch 1/30\n",
            "\u001b[1m3/3\u001b[0m \u001b[32m━━━━━━━━━━━━━━━━━━━━\u001b[0m\u001b[37m\u001b[0m \u001b[1m8s\u001b[0m 2s/step - accuracy: 0.1949 - loss: 2.0338 - val_accuracy: 0.2500 - val_loss: 1.7851\n",
            "Epoch 2/30\n",
            "\u001b[1m3/3\u001b[0m \u001b[32m━━━━━━━━━━━━━━━━━━━━\u001b[0m\u001b[37m\u001b[0m \u001b[1m0s\u001b[0m 33ms/step - accuracy: 0.3584 - loss: 1.6527 - val_accuracy: 0.3889 - val_loss: 1.5674\n",
            "Epoch 3/30\n",
            "\u001b[1m3/3\u001b[0m \u001b[32m━━━━━━━━━━━━━━━━━━━━\u001b[0m\u001b[37m\u001b[0m \u001b[1m0s\u001b[0m 31ms/step - accuracy: 0.4922 - loss: 1.4574 - val_accuracy: 0.5000 - val_loss: 1.3427\n",
            "Epoch 4/30\n",
            "\u001b[1m3/3\u001b[0m \u001b[32m━━━━━━━━━━━━━━━━━━━━\u001b[0m\u001b[37m\u001b[0m \u001b[1m0s\u001b[0m 30ms/step - accuracy: 0.6140 - loss: 1.1743 - val_accuracy: 0.4722 - val_loss: 1.1945\n",
            "Epoch 5/30\n",
            "\u001b[1m3/3\u001b[0m \u001b[32m━━━━━━━━━━━━━━━━━━━━\u001b[0m\u001b[37m\u001b[0m \u001b[1m0s\u001b[0m 28ms/step - accuracy: 0.5649 - loss: 1.0940 - val_accuracy: 0.4444 - val_loss: 1.0782\n",
            "Epoch 6/30\n",
            "\u001b[1m3/3\u001b[0m \u001b[32m━━━━━━━━━━━━━━━━━━━━\u001b[0m\u001b[37m\u001b[0m \u001b[1m0s\u001b[0m 32ms/step - accuracy: 0.6576 - loss: 0.9105 - val_accuracy: 0.5000 - val_loss: 0.9731\n",
            "Epoch 7/30\n",
            "\u001b[1m3/3\u001b[0m \u001b[32m━━━━━━━━━━━━━━━━━━━━\u001b[0m\u001b[37m\u001b[0m \u001b[1m0s\u001b[0m 29ms/step - accuracy: 0.7734 - loss: 0.7840 - val_accuracy: 0.5278 - val_loss: 0.8653\n",
            "Epoch 8/30\n",
            "\u001b[1m3/3\u001b[0m \u001b[32m━━━━━━━━━━━━━━━━━━━━\u001b[0m\u001b[37m\u001b[0m \u001b[1m0s\u001b[0m 29ms/step - accuracy: 0.7401 - loss: 0.7734 - val_accuracy: 0.6667 - val_loss: 0.8103\n",
            "Epoch 9/30\n",
            "\u001b[1m3/3\u001b[0m \u001b[32m━━━━━━━━━━━━━━━━━━━━\u001b[0m\u001b[37m\u001b[0m \u001b[1m0s\u001b[0m 28ms/step - accuracy: 0.7011 - loss: 0.7388 - val_accuracy: 0.6944 - val_loss: 0.7294\n",
            "Epoch 10/30\n",
            "\u001b[1m3/3\u001b[0m \u001b[32m━━━━━━━━━━━━━━━━━━━━\u001b[0m\u001b[37m\u001b[0m \u001b[1m0s\u001b[0m 30ms/step - accuracy: 0.7070 - loss: 0.7022 - val_accuracy: 0.7778 - val_loss: 0.7664\n",
            "Epoch 11/30\n",
            "\u001b[1m3/3\u001b[0m \u001b[32m━━━━━━━━━━━━━━━━━━━━\u001b[0m\u001b[37m\u001b[0m \u001b[1m0s\u001b[0m 55ms/step - accuracy: 0.7677 - loss: 0.5798 - val_accuracy: 0.7500 - val_loss: 0.7083\n",
            "Epoch 12/30\n",
            "\u001b[1m3/3\u001b[0m \u001b[32m━━━━━━━━━━━━━━━━━━━━\u001b[0m\u001b[37m\u001b[0m \u001b[1m0s\u001b[0m 29ms/step - accuracy: 0.8581 - loss: 0.4416 - val_accuracy: 0.6944 - val_loss: 0.6207\n",
            "Epoch 13/30\n",
            "\u001b[1m3/3\u001b[0m \u001b[32m━━━━━━━━━━━━━━━━━━━━\u001b[0m\u001b[37m\u001b[0m \u001b[1m0s\u001b[0m 30ms/step - accuracy: 0.8227 - loss: 0.4326 - val_accuracy: 0.7778 - val_loss: 0.5751\n",
            "Epoch 14/30\n",
            "\u001b[1m3/3\u001b[0m \u001b[32m━━━━━━━━━━━━━━━━━━━━\u001b[0m\u001b[37m\u001b[0m \u001b[1m0s\u001b[0m 29ms/step - accuracy: 0.8525 - loss: 0.4193 - val_accuracy: 0.7500 - val_loss: 0.5595\n",
            "Epoch 15/30\n",
            "\u001b[1m3/3\u001b[0m \u001b[32m━━━━━━━━━━━━━━━━━━━━\u001b[0m\u001b[37m\u001b[0m \u001b[1m0s\u001b[0m 32ms/step - accuracy: 0.8917 - loss: 0.3445 - val_accuracy: 0.7778 - val_loss: 0.5695\n",
            "Epoch 16/30\n",
            "\u001b[1m3/3\u001b[0m \u001b[32m━━━━━━━━━━━━━━━━━━━━\u001b[0m\u001b[37m\u001b[0m \u001b[1m0s\u001b[0m 31ms/step - accuracy: 0.8977 - loss: 0.3396 - val_accuracy: 0.8056 - val_loss: 0.5455\n",
            "Epoch 17/30\n",
            "\u001b[1m3/3\u001b[0m \u001b[32m━━━━━━━━━━━━━━━━━━━━\u001b[0m\u001b[37m\u001b[0m \u001b[1m0s\u001b[0m 29ms/step - accuracy: 0.8720 - loss: 0.3376 - val_accuracy: 0.8611 - val_loss: 0.4300\n",
            "Epoch 18/30\n",
            "\u001b[1m3/3\u001b[0m \u001b[32m━━━━━━━━━━━━━━━━━━━━\u001b[0m\u001b[37m\u001b[0m \u001b[1m0s\u001b[0m 32ms/step - accuracy: 0.9273 - loss: 0.2280 - val_accuracy: 0.8333 - val_loss: 0.3823\n",
            "Epoch 19/30\n",
            "\u001b[1m3/3\u001b[0m \u001b[32m━━━━━━━━━━━━━━━━━━━━\u001b[0m\u001b[37m\u001b[0m \u001b[1m0s\u001b[0m 30ms/step - accuracy: 0.9094 - loss: 0.4629 - val_accuracy: 0.8889 - val_loss: 0.3582\n",
            "Epoch 20/30\n",
            "\u001b[1m3/3\u001b[0m \u001b[32m━━━━━━━━━━━━━━━━━━━━\u001b[0m\u001b[37m\u001b[0m \u001b[1m0s\u001b[0m 55ms/step - accuracy: 0.9273 - loss: 0.2827 - val_accuracy: 0.8056 - val_loss: 0.3625\n",
            "Epoch 21/30\n",
            "\u001b[1m3/3\u001b[0m \u001b[32m━━━━━━━━━━━━━━━━━━━━\u001b[0m\u001b[37m\u001b[0m \u001b[1m0s\u001b[0m 29ms/step - accuracy: 0.9470 - loss: 0.2227 - val_accuracy: 0.8611 - val_loss: 0.3614\n",
            "Epoch 22/30\n",
            "\u001b[1m3/3\u001b[0m \u001b[32m━━━━━━━━━━━━━━━━━━━━\u001b[0m\u001b[37m\u001b[0m \u001b[1m0s\u001b[0m 31ms/step - accuracy: 0.8800 - loss: 0.2701 - val_accuracy: 0.8611 - val_loss: 0.3225\n",
            "Epoch 23/30\n",
            "\u001b[1m3/3\u001b[0m \u001b[32m━━━━━━━━━━━━━━━━━━━━\u001b[0m\u001b[37m\u001b[0m \u001b[1m0s\u001b[0m 30ms/step - accuracy: 0.9390 - loss: 0.1705 - val_accuracy: 0.9167 - val_loss: 0.2953\n",
            "Epoch 24/30\n",
            "\u001b[1m3/3\u001b[0m \u001b[32m━━━━━━━━━━━━━━━━━━━━\u001b[0m\u001b[37m\u001b[0m \u001b[1m0s\u001b[0m 29ms/step - accuracy: 0.9528 - loss: 0.1731 - val_accuracy: 0.9167 - val_loss: 0.2897\n",
            "Epoch 25/30\n",
            "\u001b[1m3/3\u001b[0m \u001b[32m━━━━━━━━━━━━━━━━━━━━\u001b[0m\u001b[37m\u001b[0m \u001b[1m0s\u001b[0m 30ms/step - accuracy: 0.9567 - loss: 0.1652 - val_accuracy: 0.8611 - val_loss: 0.2886\n",
            "Epoch 26/30\n",
            "\u001b[1m3/3\u001b[0m \u001b[32m━━━━━━━━━━━━━━━━━━━━\u001b[0m\u001b[37m\u001b[0m \u001b[1m0s\u001b[0m 30ms/step - accuracy: 0.9369 - loss: 0.1363 - val_accuracy: 0.8611 - val_loss: 0.2953\n",
            "Epoch 27/30\n",
            "\u001b[1m3/3\u001b[0m \u001b[32m━━━━━━━━━━━━━━━━━━━━\u001b[0m\u001b[37m\u001b[0m \u001b[1m0s\u001b[0m 28ms/step - accuracy: 0.9626 - loss: 0.1120 - val_accuracy: 0.8611 - val_loss: 0.3026\n",
            "Epoch 28/30\n",
            "\u001b[1m3/3\u001b[0m \u001b[32m━━━━━━━━━━━━━━━━━━━━\u001b[0m\u001b[37m\u001b[0m \u001b[1m0s\u001b[0m 30ms/step - accuracy: 0.9645 - loss: 0.1183 - val_accuracy: 0.8611 - val_loss: 0.3114\n",
            "Epoch 29/30\n",
            "\u001b[1m3/3\u001b[0m \u001b[32m━━━━━━━━━━━━━━━━━━━━\u001b[0m\u001b[37m\u001b[0m \u001b[1m0s\u001b[0m 29ms/step - accuracy: 0.9940 - loss: 0.0822 - val_accuracy: 0.8611 - val_loss: 0.3364\n",
            "Epoch 30/30\n",
            "\u001b[1m3/3\u001b[0m \u001b[32m━━━━━━━━━━━━━━━━━━━━\u001b[0m\u001b[37m\u001b[0m \u001b[1m0s\u001b[0m 32ms/step - accuracy: 0.9548 - loss: 0.1299 - val_accuracy: 0.8333 - val_loss: 0.3165\n"
          ]
        },
        {
          "output_type": "execute_result",
          "data": {
            "text/plain": [
              "<keras.src.callbacks.history.History at 0x7a3bf597d690>"
            ]
          },
          "metadata": {},
          "execution_count": 22
        }
      ],
      "source": [
        "# Train Model\n",
        "model.fit(X_train, y_train, epochs=30, batch_size=32, validation_data=(X_test, y_test))"
      ]
    },
    {
      "cell_type": "code",
      "execution_count": 33,
      "metadata": {
        "colab": {
          "base_uri": "https://localhost:8080/"
        },
        "id": "r4bA6RCdRqsm",
        "outputId": "ca276350-756c-46cb-a740-cf9bd5e1f1d5"
      },
      "outputs": [
        {
          "output_type": "stream",
          "name": "stderr",
          "text": [
            "WARNING:absl:You are saving your model as an HDF5 file via `model.save()` or `keras.saving.save_model(model)`. This file format is considered legacy. We recommend using instead the native Keras format, e.g. `model.save('my_model.keras')` or `keras.saving.save_model(model, 'my_model.keras')`. \n"
          ]
        },
        {
          "output_type": "stream",
          "name": "stdout",
          "text": [
            "Model trained and saved!\n"
          ]
        }
      ],
      "source": [
        "# Save Model\n",
        "model.save(\"speech_emotion_model.h5\")\n",
        "print(\"Model trained and saved!\")"
      ]
    },
    {
      "cell_type": "markdown",
      "metadata": {
        "id": "oFo6ARu7Rycq"
      },
      "source": [
        "## Model Evaluation"
      ]
    },
    {
      "cell_type": "code",
      "execution_count": 24,
      "metadata": {
        "id": "gWv99Fe5Rqiv"
      },
      "outputs": [],
      "source": [
        "# Reshape input\n",
        "X_test = np.expand_dims(X_test, axis=2)"
      ]
    },
    {
      "cell_type": "code",
      "execution_count": 25,
      "metadata": {
        "colab": {
          "base_uri": "https://localhost:8080/"
        },
        "id": "PMSaz8voRqZM",
        "outputId": "fbdfaec1-76fb-4bbb-8d14-d11a49d43119"
      },
      "outputs": [
        {
          "output_type": "stream",
          "name": "stderr",
          "text": [
            "WARNING:absl:Compiled the loaded model, but the compiled metrics have yet to be built. `model.compile_metrics` will be empty until you train or evaluate the model.\n"
          ]
        }
      ],
      "source": [
        "# Load Saved model\n",
        "model = tf_models.load_model(\"speech_emotion_model.h5\")"
      ]
    },
    {
      "cell_type": "code",
      "execution_count": 26,
      "metadata": {
        "colab": {
          "base_uri": "https://localhost:8080/"
        },
        "id": "p1Z39bUNRqRP",
        "outputId": "e71b7c78-57d4-442f-8c0f-f6dacc152281"
      },
      "outputs": [
        {
          "output_type": "stream",
          "name": "stdout",
          "text": [
            "\u001b[1m2/2\u001b[0m \u001b[32m━━━━━━━━━━━━━━━━━━━━\u001b[0m\u001b[37m\u001b[0m \u001b[1m1s\u001b[0m 391ms/step\n"
          ]
        }
      ],
      "source": [
        "# Predict Output\n",
        "y_pred = np.argmax(model.predict(X_test), axis=1)\n"
      ]
    },
    {
      "cell_type": "code",
      "execution_count": 27,
      "metadata": {
        "colab": {
          "base_uri": "https://localhost:8080/"
        },
        "id": "YlY2_jd-RqIU",
        "outputId": "f726e278-2cac-4385-94dd-24076a0087cc"
      },
      "outputs": [
        {
          "output_type": "stream",
          "name": "stdout",
          "text": [
            "              precision    recall  f1-score   support\n",
            "\n",
            "           0       1.00      0.67      0.80         3\n",
            "           1       0.86      0.86      0.86         7\n",
            "           2       1.00      1.00      1.00         3\n",
            "           3       0.67      0.50      0.57         4\n",
            "           4       1.00      1.00      1.00         6\n",
            "           5       0.60      0.75      0.67         4\n",
            "           6       0.60      1.00      0.75         3\n",
            "           7       1.00      0.83      0.91         6\n",
            "\n",
            "    accuracy                           0.83        36\n",
            "   macro avg       0.84      0.83      0.82        36\n",
            "weighted avg       0.86      0.83      0.83        36\n",
            "\n"
          ]
        }
      ],
      "source": [
        "# Evaluate Print\n",
        "print(classification_report(y_test, y_pred))\n"
      ]
    },
    {
      "cell_type": "code",
      "execution_count": 28,
      "metadata": {
        "colab": {
          "base_uri": "https://localhost:8080/",
          "height": 718
        },
        "id": "dxpTSShCTeF5",
        "outputId": "217eb149-52bd-4034-d81f-e91d764156f7"
      },
      "outputs": [
        {
          "output_type": "display_data",
          "data": {
            "text/plain": [
              "<Figure size 1000x800 with 2 Axes>"
            ],
            "image/png": "[encoded data removed]"
          },
          "metadata": {}
        }
      ],
      "source": [
        "cm = confusion_matrix(y_test, y_pred)\n",
        "\n",
        "plt.figure(figsize=(10, 8))\n",
        "sns.heatmap(cm, annot=True, fmt=\"d\", cmap=\"Blues\",\n",
        "            xticklabels=label_encoder.classes_,\n",
        "            yticklabels=label_encoder.classes_)\n",
        "plt.xlabel(\"Predicted Labels\")\n",
        "plt.ylabel(\"True Labels\")\n",
        "plt.title(\"Confusion Matrix\")\n",
        "plt.show()"
      ]
    },
    {
      "cell_type": "code",
      "execution_count": 28,
      "metadata": {
        "id": "CA9dYAMTTWiv"
      },
      "outputs": [],
      "source": []
    }
  ],
  "metadata": {
    "accelerator": "GPU",
    "colab": {
      "gpuType": "T4",
      "provenance": [],
      "authorship_tag": "ABX9TyMwLoi9gFwi6j7BHsy49uWd",
      "include_colab_link": true
    },
    "kernelspec": {
      "display_name": "base",
      "language": "python",
      "name": "python3"
    },
    "language_info": {
      "codemirror_mode": {
        "name": "ipython",
        "version": 3
      },
      "file_extension": ".py",
      "mimetype": "text/x-python",
      "name": "python",
      "nbconvert_exporter": "python",
      "pygments_lexer": "ipython3",
      "version": "3.12.7"
    }
  },
  "nbformat": 4,
  "nbformat_minor": 0
}